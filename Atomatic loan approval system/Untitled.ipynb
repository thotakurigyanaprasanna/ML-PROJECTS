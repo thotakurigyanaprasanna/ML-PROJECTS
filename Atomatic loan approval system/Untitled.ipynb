{
 "cells": [
  {
   "cell_type": "code",
   "execution_count": 3,
   "id": "681fea00-6af6-4612-8287-d6853e49e6ab",
   "metadata": {},
   "outputs": [
    {
     "name": "stdout",
     "output_type": "stream",
     "text": [
      " * Serving Flask app '__main__'\n",
      " * Debug mode: on\n"
     ]
    },
    {
     "name": "stderr",
     "output_type": "stream",
     "text": [
      "WARNING: This is a development server. Do not use it in a production deployment. Use a production WSGI server instead.\n",
      " * Running on http://127.0.0.1:5000\n",
      "Press CTRL+C to quit\n",
      " * Restarting with stat\n"
     ]
    },
    {
     "ename": "SystemExit",
     "evalue": "1",
     "output_type": "error",
     "traceback": [
      "An exception has occurred, use %tb to see the full traceback.\n",
      "\u001b[31mSystemExit\u001b[39m\u001b[31m:\u001b[39m 1\n"
     ]
    },
    {
     "name": "stderr",
     "output_type": "stream",
     "text": [
      "C:\\Users\\prasa\\AppData\\Local\\Programs\\Python\\Python313\\Lib\\site-packages\\IPython\\core\\interactiveshell.py:3707: UserWarning: To exit: use 'exit', 'quit', or Ctrl-D.\n",
      "  warn(\"To exit: use 'exit', 'quit', or Ctrl-D.\", stacklevel=1)\n"
     ]
    }
   ],
   "source": [
    "from flask import Flask, render_template, request\n",
    "import joblib\n",
    "import numpy as np\n",
    "\n",
    "app = Flask(__name__)\n",
    "\n",
    "# Load the saved machine learning model\n",
    "model = joblib.load('model.pkl')\n",
    "\n",
    "@app.route('/', methods=['GET', 'POST'])\n",
    "def main():\n",
    "    if request.method == 'POST':\n",
    "        # Get the input values from the form\n",
    "        Gender = int(request.form['Gender'])\n",
    "        Married = int(request.form['Married'])\n",
    "        Dependents = float(request.form['Dependents'])\n",
    "        Education = int(request.form['Education'])\n",
    "        Self_Employed = int(request.form['Self_Employed'])\n",
    "        ApplicantIncome = float(request.form['ApplicantIncome'])\n",
    "        CoapplicantIncome = float(request.form['CoapplicantIncome'])\n",
    "        LoanAmount = float(request.form['LoanAmount'])\n",
    "        Loan_Amount_Term = float(request.form['Loan_Amount_Term'])\n",
    "        Credit_History = float(request.form['Credit_History'])\n",
    "        Property_Area = int(request.form['Property_Area'])\n",
    "\n",
    "        # Create a numpy array with the input values\n",
    "        input_values = np.array([[Gender, Married, Dependents, Education, Self_Employed, ApplicantIncome, CoapplicantIncome, LoanAmount, Loan_Amount_Term, Credit_History, Property_Area]])\n",
    "\n",
    "        # Use the machine learning model to make a prediction\n",
    "        prediction = model.predict(input_values)\n",
    "\n",
    "        # Get the predicted class label (0 or 1)\n",
    "        predicted_class = prediction[0]\n",
    "\n",
    "        # Map the predicted class label to a human-readable result\n",
    "        if predicted_class == 0:\n",
    "            result = 'Loan Will Not Approved'\n",
    "        else:\n",
    "            result = 'Loan Will Approved'\n",
    "\n",
    "        # Render the result page with the predicted result\n",
    "        return render_template('result.html', result=result)\n",
    "\n",
    "    # Render the main page with the form\n",
    "    return render_template('predict.html')\n",
    "\n",
    "if __name__ == '__main__':\n",
    "    app.run(debug=True)"
   ]
  },
  {
   "cell_type": "code",
   "execution_count": 2,
   "id": "a11a2d07-d98c-4edb-a70a-fbe4e757e4b4",
   "metadata": {},
   "outputs": [
    {
     "name": "stdout",
     "output_type": "stream",
     "text": [
      "Collecting flask\n",
      "  Downloading flask-3.1.1-py3-none-any.whl.metadata (3.0 kB)\n",
      "Collecting blinker>=1.9.0 (from flask)\n",
      "  Downloading blinker-1.9.0-py3-none-any.whl.metadata (1.6 kB)\n",
      "Collecting click>=8.1.3 (from flask)\n",
      "  Downloading click-8.2.1-py3-none-any.whl.metadata (2.5 kB)\n",
      "Collecting itsdangerous>=2.2.0 (from flask)\n",
      "  Downloading itsdangerous-2.2.0-py3-none-any.whl.metadata (1.9 kB)\n",
      "Requirement already satisfied: jinja2>=3.1.2 in c:\\users\\prasa\\appdata\\local\\programs\\python\\python313\\lib\\site-packages (from flask) (3.1.6)\n",
      "Requirement already satisfied: markupsafe>=2.1.1 in c:\\users\\prasa\\appdata\\local\\programs\\python\\python313\\lib\\site-packages (from flask) (3.0.2)\n",
      "Collecting werkzeug>=3.1.0 (from flask)\n",
      "  Downloading werkzeug-3.1.3-py3-none-any.whl.metadata (3.7 kB)\n",
      "Requirement already satisfied: colorama in c:\\users\\prasa\\appdata\\local\\programs\\python\\python313\\lib\\site-packages (from click>=8.1.3->flask) (0.4.6)\n",
      "Downloading flask-3.1.1-py3-none-any.whl (103 kB)\n",
      "Downloading blinker-1.9.0-py3-none-any.whl (8.5 kB)\n",
      "Downloading click-8.2.1-py3-none-any.whl (102 kB)\n",
      "Downloading itsdangerous-2.2.0-py3-none-any.whl (16 kB)\n",
      "Downloading werkzeug-3.1.3-py3-none-any.whl (224 kB)\n",
      "Installing collected packages: werkzeug, itsdangerous, click, blinker, flask\n",
      "\n",
      "   ---------------------------------------- 0/5 [werkzeug]\n",
      "   ---------------------------------------- 0/5 [werkzeug]\n",
      "   ---------------------------------------- 0/5 [werkzeug]\n",
      "   ---------------------------------------- 0/5 [werkzeug]\n",
      "   ---------------------------------------- 0/5 [werkzeug]\n",
      "   ---------------------------------------- 0/5 [werkzeug]\n",
      "   ---------------------------------------- 0/5 [werkzeug]\n",
      "   ---------------------------------------- 0/5 [werkzeug]\n",
      "   ---------------------------------------- 0/5 [werkzeug]\n",
      "   ---------------------------------------- 0/5 [werkzeug]\n",
      "   -------- ------------------------------- 1/5 [itsdangerous]\n",
      "   ---------------- ----------------------- 2/5 [click]\n",
      "   ---------------- ----------------------- 2/5 [click]\n",
      "   ---------------- ----------------------- 2/5 [click]\n",
      "   ---------------- ----------------------- 2/5 [click]\n",
      "   ------------------------ --------------- 3/5 [blinker]\n",
      "   -------------------------------- ------- 4/5 [flask]\n",
      "   -------------------------------- ------- 4/5 [flask]\n",
      "   -------------------------------- ------- 4/5 [flask]\n",
      "   -------------------------------- ------- 4/5 [flask]\n",
      "   -------------------------------- ------- 4/5 [flask]\n",
      "   ---------------------------------------- 5/5 [flask]\n",
      "\n",
      "Successfully installed blinker-1.9.0 click-8.2.1 flask-3.1.1 itsdangerous-2.2.0 werkzeug-3.1.3\n"
     ]
    },
    {
     "name": "stderr",
     "output_type": "stream",
     "text": [
      "\n",
      "[notice] A new release of pip is available: 25.1.1 -> 25.2\n",
      "[notice] To update, run: python.exe -m pip install --upgrade pip\n"
     ]
    },
    {
     "name": "stdout",
     "output_type": "stream",
     "text": [
      "Requirement already satisfied: joblib in c:\\users\\prasa\\appdata\\local\\programs\\python\\python313\\lib\\site-packages (1.5.1)\n"
     ]
    },
    {
     "name": "stderr",
     "output_type": "stream",
     "text": [
      "\n",
      "[notice] A new release of pip is available: 25.1.1 -> 25.2\n",
      "[notice] To update, run: python.exe -m pip install --upgrade pip\n"
     ]
    }
   ],
   "source": [
    "!pip install flask\n",
    "!pip install joblib"
   ]
  },
  {
   "cell_type": "code",
   "execution_count": null,
   "id": "55f000e2-0255-4432-82df-b80f6670179a",
   "metadata": {},
   "outputs": [],
   "source": []
  }
 ],
 "metadata": {
  "kernelspec": {
   "display_name": "Python 3 (ipykernel)",
   "language": "python",
   "name": "python3"
  },
  "language_info": {
   "codemirror_mode": {
    "name": "ipython",
    "version": 3
   },
   "file_extension": ".py",
   "mimetype": "text/x-python",
   "name": "python",
   "nbconvert_exporter": "python",
   "pygments_lexer": "ipython3",
   "version": "3.13.3"
  }
 },
 "nbformat": 4,
 "nbformat_minor": 5
}
